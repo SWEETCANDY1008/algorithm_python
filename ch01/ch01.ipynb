{
 "cells": [
  {
   "cell_type": "markdown",
   "metadata": {},
   "source": [
    "# 순차검색"
   ]
  },
  {
   "cell_type": "markdown",
   "metadata": {},
   "source": [
    "## pseudo code"
   ]
  },
  {
   "cell_type": "markdown",
   "metadata": {},
   "source": [
    "```\n",
    "void seqsearch (int n, const keytype S[], keytype x, index& location) {\n",
    "   location = 1;\n",
    "   while(location <= n && S[location] != x)\n",
    "      location++;\n",
    "   if(location >n)\n",
    "      location = 0;\n",
    "}\n",
    "```"
   ]
  },
  {
   "cell_type": "markdown",
   "metadata": {},
   "source": [
    "## Python"
   ]
  },
  {
   "cell_type": "code",
   "execution_count": 5,
   "metadata": {},
   "outputs": [],
   "source": [
    "# n : 배열의 크기\n",
    "# S : 배열\n",
    "# x : 찾고자 하는 수\n",
    "# location : 찾고자 하는 수의 위치\n",
    "\n",
    "def seqsearch(n, S, x):\n",
    "    location = 0\n",
    "    while location <= n and S[location] != x:\n",
    "        location = location + 1\n",
    "    if location > n:\n",
    "        location = 0\n",
    "    return location"
   ]
  },
  {
   "cell_type": "code",
   "execution_count": 11,
   "metadata": {},
   "outputs": [
    {
     "data": {
      "text/plain": [
       "7"
      ]
     },
     "execution_count": 11,
     "metadata": {},
     "output_type": "execute_result"
    }
   ],
   "source": [
    "S = [1, 2, 3, 4, 5, 6, 7, 8, 9, 10]\n",
    "n = 10\n",
    "x = 8\n",
    "\n",
    "seqsearch(n, S, x)"
   ]
  },
  {
   "cell_type": "markdown",
   "metadata": {},
   "source": [
    "# 이분검색"
   ]
  },
  {
   "cell_type": "markdown",
   "metadata": {},
   "source": [
    "## pseudo code"
   ]
  },
  {
   "cell_type": "markdown",
   "metadata": {},
   "source": [
    "```\n",
    "void binsearch(int n, const keytype S[], keytype x, index& location) {\n",
    "   index low, high, mid;   low =1, high = n;   location = 0;\n",
    "   while(low <= high && location == 0) {\n",
    "      mid = (low + high) / 2;\n",
    "      if(x == S[mid])\n",
    "         location = mid;\n",
    "      else if(x < S[mid])\n",
    "         high = mid – 1;\n",
    "      else\n",
    "         low = mid + 1;\n",
    "   }\n",
    "}\n",
    "```"
   ]
  },
  {
   "cell_type": "markdown",
   "metadata": {},
   "source": [
    "## Python"
   ]
  },
  {
   "cell_type": "code",
   "execution_count": 9,
   "metadata": {},
   "outputs": [],
   "source": [
    "# n : 배열의 크기\n",
    "# S : 배열\n",
    "# x : 찾고자 하는 수\n",
    "# location : 찾고자 하는 수의 위치\n",
    "\n",
    "def binsearch(n, S, x):\n",
    "    low = 0\n",
    "    high = n\n",
    "    location = 0\n",
    "\n",
    "    while low <= high and location == 0:\n",
    "        mid = (low + high) // 2             # / 대신 //을 사용하는 이유는 소수점을 자동으로 버려주기 때문\n",
    "        if (x == S[mid]):\n",
    "            location = mid\n",
    "        elif (x < S[mid]):\n",
    "            high = mid - 1\n",
    "        else:\n",
    "            low = mid + 1\n",
    "\n",
    "    return location"
   ]
  },
  {
   "cell_type": "code",
   "execution_count": 10,
   "metadata": {},
   "outputs": [
    {
     "data": {
      "text/plain": [
       "7"
      ]
     },
     "execution_count": 10,
     "metadata": {},
     "output_type": "execute_result"
    }
   ],
   "source": [
    "S = [1, 2, 3, 4, 5, 6, 7, 8, 9, 10]\n",
    "n = 10\n",
    "x = 8\n",
    "\n",
    "binsearch(n, S, x)"
   ]
  },
  {
   "cell_type": "markdown",
   "metadata": {},
   "source": [
    "# 피보나치 수열"
   ]
  },
  {
   "cell_type": "markdown",
   "metadata": {},
   "source": [
    "## pseudo code"
   ]
  },
  {
   "cell_type": "markdown",
   "metadata": {},
   "source": [
    "### 1"
   ]
  },
  {
   "cell_type": "markdown",
   "metadata": {},
   "source": [
    "```\n",
    "int fib(int n) {\n",
    "   if(n <= 1)\n",
    "      return n;\n",
    "   else\n",
    "      return fib(n-1) + fib(n-2);\n",
    "}\n",
    "```"
   ]
  },
  {
   "cell_type": "markdown",
   "metadata": {},
   "source": [
    "### 2"
   ]
  },
  {
   "cell_type": "markdown",
   "metadata": {},
   "source": [
    "```\n",
    "int fib2(int n) {\n",
    "   index I;   int f[0…n];\n",
    "   f[0] = 0;\n",
    "   if(n>0) {\n",
    "      f[1] = 1;\n",
    "      for(i=2;i<=n;i++)\n",
    "         f[i] = f[i-1] + f[i-2];\n",
    "   return f[n];      \n",
    "}\n",
    "```"
   ]
  },
  {
   "cell_type": "markdown",
   "metadata": {},
   "source": [
    "## Python"
   ]
  },
  {
   "cell_type": "markdown",
   "metadata": {},
   "source": [
    "### 1"
   ]
  },
  {
   "cell_type": "code",
   "execution_count": 17,
   "metadata": {},
   "outputs": [
    {
     "data": {
      "text/plain": [
       "3"
      ]
     },
     "execution_count": 17,
     "metadata": {},
     "output_type": "execute_result"
    }
   ],
   "source": [
    "def fib(n):\n",
    "    if n <= 1:\n",
    "        return n\n",
    "    else:\n",
    "        return fib(n-1) + fib(n-2)\n",
    "\n",
    "fib(4)"
   ]
  },
  {
   "cell_type": "markdown",
   "metadata": {},
   "source": [
    "### 2"
   ]
  },
  {
   "cell_type": "code",
   "execution_count": 16,
   "metadata": {},
   "outputs": [
    {
     "data": {
      "text/plain": [
       "3"
      ]
     },
     "execution_count": 16,
     "metadata": {},
     "output_type": "execute_result"
    }
   ],
   "source": [
    "def fib2(n):\n",
    "    f = []\n",
    "    f.insert(0, 0)      # f[0] = 0\n",
    "    if n > 0:\n",
    "        f.insert(1, 1)  # f[1] = 1\n",
    "        for i in range(2, n+1):\n",
    "            f.insert(i, f[i-1] + f[i-2])  # f[i] = f[i-1] + f[i-2]\n",
    "    return f[n]\n",
    "\n",
    "fib2(4)"
   ]
  }
 ],
 "metadata": {
  "kernelspec": {
   "display_name": "Python 3",
   "language": "python",
   "name": "python3"
  },
  "language_info": {
   "codemirror_mode": {
    "name": "ipython",
    "version": 3
   },
   "file_extension": ".py",
   "mimetype": "text/x-python",
   "name": "python",
   "nbconvert_exporter": "python",
   "pygments_lexer": "ipython3",
   "version": "3.7.3"
  }
 },
 "nbformat": 4,
 "nbformat_minor": 2
}
