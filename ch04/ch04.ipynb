{
 "cells": [
  {
   "cell_type": "markdown",
   "metadata": {},
   "source": [
    "# Prim Algorithm"
   ]
  },
  {
   "cell_type": "markdown",
   "metadata": {},
   "source": [
    "## pseudo code"
   ]
  },
  {
   "cell_type": "markdown",
   "metadata": {},
   "source": [
    "```\n",
    "void prim(int n, const number W[][], set_of_edges& F) {\n",
    "   index i, vnear;\n",
    "   number min;\n",
    "   edge e;\n",
    "   index nearest[2..n];\n",
    "   number distance[2..n];\n",
    "\n",
    "   F = ∅;\n",
    "   for(i=2;i<=n;i++) {\u000b",
    "      nearest[i] = 1;\n",
    "      distance[i] = W[1][i];\n",
    "   }\n",
    "   repeat(n-1 times) {\u000b",
    "      min = ∞;\n",
    "      for(i=2;i<=n;i++)\u000b",
    "         if(0 <= distance[i] < min) {\n",
    "            min = distance[i];\n",
    "            vnear = i;\n",
    "         }\n",
    "      e = vnear가 인덱스인 마디를 Y에 추가한다.\n",
    "      add e to F\n",
    "      distance[vnear] = -1;\n",
    "      for(i=2;i<=n;i++)\n",
    "         if(W[i][vnear] < distance[i]) {\n",
    "            distance[i] = W[i][vnear];\n",
    "            nearest[i] = vnear\n",
    "         }\n",
    "   }\n",
    "}\n",
    "```"
   ]
  },
  {
   "attachments": {
    "image.png": {
     "image/png": "[encoded data removed]"
    }
   },
   "cell_type": "markdown",
   "metadata": {},
   "source": [
    "![image.png](attachment:image.png)"
   ]
  },
  {
   "cell_type": "markdown",
   "metadata": {},
   "source": [
    "# Python"
   ]
  },
  {
   "cell_type": "code",
   "execution_count": 13,
   "metadata": {},
   "outputs": [],
   "source": [
    "# void prim(int n, const number W[][], set_of_edges& F) {\n",
    "#    index i, vnear;\n",
    "#    number min;\n",
    "#    edge e;\n",
    "#    index nearest[2..n];\n",
    "#    number distance[2..n];\n",
    "\n",
    "#    F = ∅;\n",
    "#    for(i=2;i<=n;i++) {\n",
    "#        nearest[i] = 1;\n",
    "#         distance[i] = W[1][i];\n",
    "#    }\n",
    "#    repeat(n-1 times) {\u000b",
    "      min = ∞;\n",
    "#       for(i=2;i<=n;i++)\u000b",
    "         if(0 <= distance[i] < min) {\n",
    "#             min = distance[i];\n",
    "#             vnear = i;\n",
    "#          }\n",
    "#       e = vnear가 인덱스인 마디를 Y에 추가한다.\n",
    "#       add e to F\n",
    "#       distance[vnear] = -1;\n",
    "#       for(i=2;i<=n;i++)\n",
    "#          if(W[i][vnear] < distance[i]) {\n",
    "#             distance[i] = W[i][vnear];\n",
    "#             nearest[i] = vnear\n",
    "#          }\n",
    "#    }\n",
    "# }\n",
    "\n",
    "W = [[0, 1, 3, 999, 999],\n",
    "     [1, 0, 3, 6, 999],\n",
    "     [3, 3, 0, 4, 2],\n",
    "     [999, 6, 4, 0, 5],\n",
    "     [999, 999, 2, 5, 0]]\n",
    "n = 5\n",
    "\n",
    "def prim(n, W):\n",
    "    nearest = [0 for row in range(n+1)]\n",
    "    distance = [0 for row in range(n+1)]\n",
    "    F = []\n",
    "    Y = []\n",
    "    \n",
    "    for i in range(1, n):\n",
    "        nearest[i] = 1\n",
    "        distance[i] = W[0][i]\n",
    "        \n",
    "    for repeat in range(0, n-1):\n",
    "        min = 999\n",
    "        for i in range(1, n):\n",
    "            if distance[i] >= 0 and distance[i] < min:\n",
    "                min = distance[i]\n",
    "                vnear = i\n",
    "                \n",
    "        e = Y.append(i)\n",
    "        F.append(e)\n",
    "        distance[vnear] = -1\n",
    "        for i in range(1, n):\n",
    "            if W[i][vnear] < distance[i]:\n",
    "                distance[i] = W[i][vnear]\n",
    "                nearest[i] = vnear\n",
    "    return F, Y"
   ]
  },
  {
   "cell_type": "code",
   "execution_count": 14,
   "metadata": {},
   "outputs": [],
   "source": [
    "F, Y = prim(n, W)"
   ]
  },
  {
   "cell_type": "code",
   "execution_count": 15,
   "metadata": {},
   "outputs": [
    {
     "data": {
      "text/plain": [
       "[None, None, None, None]"
      ]
     },
     "execution_count": 15,
     "metadata": {},
     "output_type": "execute_result"
    }
   ],
   "source": [
    "F"
   ]
  },
  {
   "cell_type": "code",
   "execution_count": 16,
   "metadata": {},
   "outputs": [
    {
     "data": {
      "text/plain": [
       "[4, 4, 4, 4]"
      ]
     },
     "execution_count": 16,
     "metadata": {},
     "output_type": "execute_result"
    }
   ],
   "source": [
    "Y"
   ]
  },
  {
   "cell_type": "code",
   "execution_count": 54,
   "metadata": {},
   "outputs": [
    {
     "data": {
      "text/plain": [
       "4"
      ]
     },
     "execution_count": 54,
     "metadata": {},
     "output_type": "execute_result"
    }
   ],
   "source": [
    "bin2(4, 3)"
   ]
  },
  {
   "cell_type": "markdown",
   "metadata": {},
   "source": [
    "# floyd"
   ]
  },
  {
   "cell_type": "markdown",
   "metadata": {},
   "source": [
    "## pseudo code"
   ]
  },
  {
   "cell_type": "markdown",
   "metadata": {},
   "source": [
    "정점 i에서 j로 가는 최단경로의 길이\n",
    "```\n",
    "void floyd(int n, const number W[][], number D[][]) {\n",
    "   index i, j, k;\n",
    "   D = W;\n",
    "   for(k=1;k<=n;k++)\n",
    "      for(i=1;i<=n;i++)\n",
    "         for(j=1;j<=n;j++)\n",
    "            D[i][j] = minimum(D[i][j], D[i][k] + D[k][j]);\n",
    "}\n",
    "```\n",
    "\n",
    "정점 i에서 j로 가는 최단경로의 길이와 최단경로의 중간에 놓여있는 마디를 출력\n",
    "\n",
    "```\n",
    "void floyd2(int n, const number W[][], number D[][], index P[][]) {\n",
    "   index i, j, k;\n",
    "\n",
    "   for(i=1;i<=n;i++)\n",
    "      for(j=1;j<=n;j++)\n",
    "         P[i][j] = 0;\n",
    "   D = W;\n",
    "   for(k=1;k<=n;k++)\n",
    "      for(i=1;i<=n;i++)\n",
    "         for(j=1;j<=n;j++)\n",
    "            if(D[i][k] + D[k][j] < D[i][j]) {\n",
    "               P[i][j] = k;\n",
    "               D[i][j] = D[i][k] + D[k][j];\n",
    "            }\n",
    "}\n",
    "```\n",
    "\n",
    "P배열을 이용한 최단경로를 출력\n",
    "\n",
    "```\n",
    "void path(index q, r) {\n",
    "   if(P[q][r] != 0) {\n",
    "      path(q, P[q][r]);\n",
    "      cout << “v” << P[q][r];\n",
    "      path(P[q][r], r);\n",
    "   }\n",
    "}\n",
    "```"
   ]
  },
  {
   "attachments": {
    "image.png": {
     "image/png": "[encoded data removed]"
    }
   },
   "cell_type": "markdown",
   "metadata": {},
   "source": [
    "![image.png](attachment:image.png)"
   ]
  },
  {
   "cell_type": "markdown",
   "metadata": {},
   "source": [
    "## Python"
   ]
  },
  {
   "cell_type": "code",
   "execution_count": 67,
   "metadata": {},
   "outputs": [],
   "source": [
    "# 마디의 개수\n",
    "n = 5\n",
    "\n",
    "# 찾고자 하는 그래프 배열\n",
    "W = [[0, 1, 999, 1, 5],\n",
    "     [9, 0, 3, 2, 999],\n",
    "     [999, 999, 0, 4, 999],\n",
    "     [999, 999, 2, 0, 3],\n",
    "     [3, 999, 999, 999, 0]\n",
    "    ]\n",
    "\n",
    "def minimum(x, y):\n",
    "    if x < y:\n",
    "        return x\n",
    "    elif x > y:\n",
    "        return y\n",
    "    else:\n",
    "        return x\n",
    "\n",
    "def floyd(n, W):\n",
    "    D = W\n",
    "\n",
    "    for k in range(0, n):\n",
    "        for i in range(0, n):\n",
    "            for j in range(0, n):\n",
    "                D[i][j] = minimum(D[i][j], D[i][k]+D[k][j])\n",
    "    return D"
   ]
  },
  {
   "cell_type": "code",
   "execution_count": 68,
   "metadata": {},
   "outputs": [
    {
     "data": {
      "text/plain": [
       "[[0, 1, 3, 1, 4],\n",
       " [8, 0, 3, 2, 5],\n",
       " [10, 11, 0, 4, 7],\n",
       " [6, 7, 2, 0, 3],\n",
       " [3, 4, 6, 4, 0]]"
      ]
     },
     "execution_count": 68,
     "metadata": {},
     "output_type": "execute_result"
    }
   ],
   "source": [
    "floyd(n, W)"
   ]
  },
  {
   "cell_type": "code",
   "execution_count": 97,
   "metadata": {},
   "outputs": [],
   "source": [
    "n = 5\n",
    "W = [[0, 1, 999, 1, 5],\n",
    "     [9, 0, 3, 2, 999],\n",
    "     [999, 999, 0, 4, 999],\n",
    "     [999, 999, 2, 0, 3],\n",
    "     [3, 999, 999, 999, 0]\n",
    "    ]\n",
    "\n",
    "def floyd2(n, W):\n",
    "    P = []\n",
    "    for i in range(0, n):\n",
    "        P.insert(i, [])\n",
    "        for j in range(0, n):\n",
    "            P[i].insert(j, 0)\n",
    "    D = W\n",
    "\n",
    "    for k in range(0, n):\n",
    "        for i in range(0, n):\n",
    "            for j in range(0, n):\n",
    "                if D[i][k] + D[k][j] < D[i][j]:\n",
    "                    P[i][j] = k\n",
    "                    D[i][j] = D[i][k]+D[k][j]\n",
    "\n",
    "    return P"
   ]
  },
  {
   "cell_type": "code",
   "execution_count": 98,
   "metadata": {},
   "outputs": [],
   "source": [
    "P = floyd2(n, W)"
   ]
  },
  {
   "cell_type": "code",
   "execution_count": 99,
   "metadata": {},
   "outputs": [
    {
     "data": {
      "text/plain": [
       "[[0, 0, 3, 0, 3],\n",
       " [4, 0, 0, 0, 3],\n",
       " [4, 4, 0, 0, 3],\n",
       " [4, 4, 0, 0, 0],\n",
       " [0, 0, 3, 0, 0]]"
      ]
     },
     "execution_count": 99,
     "metadata": {},
     "output_type": "execute_result"
    }
   ],
   "source": [
    "P"
   ]
  },
  {
   "cell_type": "code",
   "execution_count": 102,
   "metadata": {},
   "outputs": [],
   "source": [
    "# 이부분은 수정필요\n",
    "\n",
    "\n",
    "def path(q, r):\n",
    "    if P[q][r] != 0:\n",
    "        path(q, P[q][r])\n",
    "        print(\"v\" + str(P[q][r]))\n",
    "        path(P[q][r], r)"
   ]
  },
  {
   "cell_type": "code",
   "execution_count": 103,
   "metadata": {},
   "outputs": [
    {
     "name": "stdout",
     "output_type": "stream",
     "text": [
      "v3\n"
     ]
    }
   ],
   "source": [
    "path(4, 2)\n",
    "# 배열이기 때문에 인덱스가 0부터 시작이므로 실제 정점에서는 5에서 3"
   ]
  },
  {
   "cell_type": "markdown",
   "metadata": {},
   "source": [
    "# Tree 구현"
   ]
  },
  {
   "cell_type": "code",
   "execution_count": null,
   "metadata": {},
   "outputs": [],
   "source": [
    "class Node(object):\n",
    "    def __init__(self, data):\n",
    "        self.data = data\n",
    "        self.left = None\n",
    "        self.right = None\n",
    "\n",
    "class BinarySearchTree(object):\n",
    "    def __init__(self):\n",
    "        self.root = None\n",
    "        \n",
    "    def insert(self, data):\n",
    "        self.root = self._insert_value(self.root, data)\n",
    "        return self.root is not None\n",
    "    \n",
    "    def _insert_value(self, node, data):\n",
    "        if node is None:\n",
    "            node = Node(data)\n",
    "        else:\n",
    "            if data <= node.data:\n",
    "                "
   ]
  },
  {
   "cell_type": "markdown",
   "metadata": {},
   "source": [
    "# minmult"
   ]
  },
  {
   "cell_type": "markdown",
   "metadata": {},
   "source": [
    "## pseudo code"
   ]
  },
  {
   "cell_type": "markdown",
   "metadata": {},
   "source": [
    "```\n",
    "int minmult(int n, const int d[], index P[][]) {\n",
    "   index i, j, k, diagonal;\n",
    "   int M[1..n][1..n];\n",
    "\n",
    "   for(i=1;i<=n;i++)\n",
    "      M[i][i] = 0;\n",
    "   for(diagonal = 1 ;diagonal<=n-1;diagonal++)\n",
    "      for(i=1;i<=n-diagonal;i++) {\n",
    "         j=i+diagonal\n",
    "         M[i][j] = min┬(𝑖≤𝑘≤𝑗−1)⁡〖(𝑀[𝑖][𝑘]+𝑀[𝑘+1][𝑗]+𝑑[𝑖−1]∗𝑑[𝑘]∗𝑑[𝑗]);〗\n",
    "         P[i][j] = 최소 횟수를 나타내는 k의 값;\n",
    "      }\n",
    "   return M[1][n];\n",
    "}\n",
    "```\n",
    "\n",
    "```\n",
    "      \n",
    "void order(index i, index j) {\n",
    "   if(i==j)\n",
    "      cout << “A” << I\n",
    "   else {\n",
    "      k = P[i][j];\n",
    "      cout << “(“;\n",
    "      order(i, k);\n",
    "      order(k+1, j);\n",
    "      cout << “)”;\n",
    "   }\n",
    "}\n",
    "```"
   ]
  },
  {
   "cell_type": "markdown",
   "metadata": {},
   "source": [
    "# Python"
   ]
  },
  {
   "cell_type": "code",
   "execution_count": null,
   "metadata": {},
   "outputs": [],
   "source": [
    "int minmult(int n, const int d[], index P[][]) {\n",
    "   index i, j, k, diagonal;\n",
    "   int M[1..n][1..n];\n",
    "\n",
    "   for(i=1;i<=n;i++)\n",
    "      M[i][i] = 0;\n",
    "   for(diagonal = 1 ;diagonal<=n-1;diagonal++)\n",
    "      for(i=1;i<=n-diagonal;i++) {\n",
    "         j=i+diagonal\n",
    "         M[i][j] = min┬(𝑖≤𝑘≤𝑗−1)⁡〖(𝑀[𝑖][𝑘]+𝑀[𝑘+1][𝑗]+𝑑[𝑖−1]∗𝑑[𝑘]∗𝑑[𝑗]);〗\n",
    "         P[i][j] = 최소 횟수를 나타내는 k의 값;\n",
    "      }\n",
    "   return M[1][n];\n",
    "}\n",
    "\n",
    "void order(index i, index j) {\n",
    "   if(i==j)\n",
    "      cout << “A” << I\n",
    "   else {\n",
    "      k = P[i][j];\n",
    "      cout << “(“;\n",
    "      order(i, k);\n",
    "      order(k+1, j);\n",
    "      cout << “)”;\n",
    "   }\n",
    "}"
   ]
  },
  {
   "cell_type": "code",
   "execution_count": null,
   "metadata": {},
   "outputs": [],
   "source": [
    "# n 행렬의 갯수 d 인덱스가 0~n까지의 정수 배열\n",
    "\n",
    "def minmult(n, d):\n",
    "    \n",
    "    "
   ]
  },
  {
   "cell_type": "markdown",
   "metadata": {},
   "source": [
    "# Binary Search Tree 수정필요"
   ]
  },
  {
   "cell_type": "markdown",
   "metadata": {},
   "source": [
    "## pseudo code"
   ]
  },
  {
   "cell_type": "code",
   "execution_count": null,
   "metadata": {},
   "outputs": [],
   "source": [
    "void search(node_pointer tree, keytype keyin, node_pointer& p) {\n",
    "   bool found;\n",
    "\n",
    "   p = tree;\n",
    "   found = false;\n",
    "   while(!found)\n",
    "      if(p->key == keyin)\n",
    "         found = true;\n",
    "      else if(keyin < p->key);\n",
    "         p = p->left;\n",
    "      else\n",
    "         p = p->right\n",
    "}\n",
    "\n",
    "void optsearchtree(int n, const float p[], float& minavg, index R[][]) {\n",
    "   index i, j, k, diagonal;\n",
    "   float A[1..n+1][0..n];\n",
    "   for(i=1;i<=n;i++) {\n",
    "      A[i][i-1] = 0;\n",
    "      A[i][i] = p[i];\n",
    "      R[i][i] = I;\n",
    "      R[i][i-1] = 0;\n",
    "   }\n",
    "   A[n+1][n] = 0;\n",
    "   R[n+1][n] = 0;\n",
    "   for(diagonal = 1;diagonal<=n-1;diagonal++)\n",
    "      for(i=1;i<=n-diagonal;i++) {\u000b",
    "         j = I + diagonal;\n",
    "         A[i][j] = min┬(𝑖≤𝑘≤𝑗−1)⁡(𝐴[𝑖][𝑘−1]+𝐴[𝑘+1][𝑗])+ ∑_(𝑚=𝑖)^𝑗▒𝑝_𝑚 \n",
    "         R[i][j] = 최소값을 주는 k의 값;\n",
    "      }\n",
    "   minavg = A[1][n];\n",
    "}\n",
    "\n",
    "node_pointer tree(index I, j) {\n",
    "   index k;\n",
    "   node_pointer p;\n",
    "   \n",
    "   k = R[i][j]\n",
    "   if(k == 0)\n",
    "      return NULL;\n",
    "   else {\n",
    "      p = new_nodetype;\n",
    "      p->key = Key[k];\n",
    "      p->left = tree(I, k-1);\n",
    "      p->right = tree(k+1, j);\n",
    "      return p;\n",
    "   }\n",
    "}\n",
    "\n"
   ]
  },
  {
   "cell_type": "markdown",
   "metadata": {},
   "source": [
    "## Python"
   ]
  },
  {
   "cell_type": "code",
   "execution_count": 104,
   "metadata": {},
   "outputs": [
    {
     "ename": "SyntaxError",
     "evalue": "invalid syntax (<ipython-input-104-8ec4e6999382>, line 1)",
     "output_type": "error",
     "traceback": [
      "\u001b[1;36m  File \u001b[1;32m\"<ipython-input-104-8ec4e6999382>\"\u001b[1;36m, line \u001b[1;32m1\u001b[0m\n\u001b[1;33m    void search(node_pointer tree, keytype keyin, node_pointer& p) {\u001b[0m\n\u001b[1;37m              ^\u001b[0m\n\u001b[1;31mSyntaxError\u001b[0m\u001b[1;31m:\u001b[0m invalid syntax\n"
     ]
    }
   ],
   "source": [
    "void search(node_pointer tree, keytype keyin, node_pointer& p) {\n",
    "   bool found;\n",
    "\n",
    "   p = tree;\n",
    "   found = false;\n",
    "   while(!found)\n",
    "      if(p->key == keyin)\n",
    "         found = true;\n",
    "      else if(keyin < p->key);\n",
    "         p = p->left;\n",
    "      else\n",
    "         p = p->right\n",
    "}\n",
    "\n",
    "void optsearchtree(int n, const float p[], float& minavg, index R[][]) {\n",
    "   index i, j, k, diagonal;\n",
    "   float A[1..n+1][0..n];\n",
    "   for(i=1;i<=n;i++) {\n",
    "      A[i][i-1] = 0;\n",
    "      A[i][i] = p[i];\n",
    "      R[i][i] = I;\n",
    "      R[i][i-1] = 0;\n",
    "   }\n",
    "   A[n+1][n] = 0;\n",
    "   R[n+1][n] = 0;\n",
    "   for(diagonal = 1;diagonal<=n-1;diagonal++)\n",
    "      for(i=1;i<=n-diagonal;i++) {\u000b",
    "         j = I + diagonal;\n",
    "         A[i][j] = min┬(𝑖≤𝑘≤𝑗−1)⁡(𝐴[𝑖][𝑘−1]+𝐴[𝑘+1][𝑗])+ ∑_(𝑚=𝑖)^𝑗▒𝑝_𝑚 \n",
    "         R[i][j] = 최소값을 주는 k의 값;\n",
    "      }\n",
    "   minavg = A[1][n];\n",
    "}\n",
    "\n",
    "node_pointer tree(index I, j) {\n",
    "   index k;\n",
    "   node_pointer p;\n",
    "   \n",
    "   k = R[i][j]\n",
    "   if(k == 0)\n",
    "      return NULL;\n",
    "   else {\n",
    "      p = new_nodetype;\n",
    "      p->key = Key[k];\n",
    "      p->left = tree(I, k-1);\n",
    "      p->right = tree(k+1, j);\n",
    "      return p;\n",
    "   }\n",
    "}\n",
    "\n"
   ]
  },
  {
   "cell_type": "code",
   "execution_count": 109,
   "metadata": {},
   "outputs": [
    {
     "name": "stdout",
     "output_type": "stream",
     "text": [
      "[<__main__.Node object at 0x0000024A440CCFC8>]\n"
     ]
    }
   ],
   "source": [
    "class Node(object):\n",
    "    def __init__(self, data):\n",
    "        self.data = data\n",
    "        self.left = None\n",
    "        self.right = None\n",
    "            \n",
    "class Tree(object):\n",
    "    def __init__(self):\n",
    "        self.root = None\n",
    "\n",
    "node = []\n",
    "node.append(Node('A'))"
   ]
  },
  {
   "cell_type": "markdown",
   "metadata": {},
   "source": [
    "# traveling salesman problem"
   ]
  },
  {
   "cell_type": "markdown",
   "metadata": {},
   "source": [
    "## pseudo code"
   ]
  },
  {
   "cell_type": "markdown",
   "metadata": {},
   "source": [
    "```\n",
    "void travel(int n, const number W[][], index P[][], number& minlength) {\n",
    "   index i, j, k;\n",
    "   number D[1..n][subset of V-{𝑣_1}];\n",
    "   \n",
    "   for(i=2;i<=n;i++)\n",
    "      D[i][∅] = W[i][1];\n",
    "   for(k=1;k<=n-2;k++)\n",
    "      for(A⊆V-{𝑣_1}를 만족하면서 마디가 k개인 모든 부분집합 A)\n",
    "         for(i != 1와 𝑣_𝑖∉ A를 만족하는 모든 i) {\n",
    "            D[i][A] = min┬(𝑗:𝑣_𝑗∈𝐴)⁡(𝑊[𝑖][𝑗]+𝐷[𝑗][𝐴−{𝑣_𝑖 }])\n",
    "            P[i][A] = 최소가 되는 j값;\n",
    "         }\n",
    "   D[1][V-{𝑣_1}] = min┬(2≤𝑗≤𝑛)⁡(𝑊[1][𝑗]+𝐷[𝑗][𝑉−{𝑣_1,𝑣_𝑗 }]);\n",
    "   P[1][V-{𝑣_1}] = 최소가 되는 j값;\n",
    "   minlength = D[1][V-{𝑣_1}];\n",
    "}\n",
    "```\n"
   ]
  },
  {
   "cell_type": "markdown",
   "metadata": {},
   "source": [
    "# Python"
   ]
  },
  {
   "cell_type": "code",
   "execution_count": null,
   "metadata": {},
   "outputs": [],
   "source": [
    "void travel(int n, const number W[][], index P[][], number& minlength) {\n",
    "   index i, j, k;\n",
    "   number D[1..n][subset of V-{𝑣_1}];\n",
    "\n",
    "   for(i=2;i<=n;i++)\n",
    "      D[i][∅] = W[i][1];\n",
    "   for(k=1;k<=n-2;k++)\n",
    "      for(A⊆V-{𝑣_1}를 만족하면서 마디가 k개인 모든 부분집합 A)\n",
    "         for(i != 1와 𝑣_𝑖∉ A를 만족하는 모든 i) {\n",
    "            D[i][A] = min┬(𝑗:𝑣_𝑗∈𝐴)⁡(𝑊[𝑖][𝑗]+𝐷[𝑗][𝐴−{𝑣_𝑖 }])\n",
    "            P[i][A] = 최소가 되는 j값;\n",
    "         }\n",
    "   D[1][V-{𝑣_1}] = min┬(2≤𝑗≤𝑛)⁡(𝑊[1][𝑗]+𝐷[𝑗][𝑉−{𝑣_1,𝑣_𝑗 }]);\n",
    "   P[1][V-{𝑣_1}] = 최소가 되는 j값;\n",
    "   minlength = D[1][V-{𝑣_1}];\n",
    "}\n",
    "\n",
    "n = 4\n",
    "W = [\n",
    "     [0, 2, 9, 999],\n",
    "     [1, 0, 6, 4],\n",
    "     [999, 7, 0, 8],\n",
    "     [6, 3, 999, 0]\n",
    "    ]\n",
    "\n",
    "\n",
    "def travel(n, W, P, minlength):\n",
    "    "
   ]
  },
  {
   "cell_type": "code",
   "execution_count": null,
   "metadata": {},
   "outputs": [],
   "source": []
  }
 ],
 "metadata": {
  "kernelspec": {
   "display_name": "Python 3",
   "language": "python",
   "name": "python3"
  },
  "language_info": {
   "codemirror_mode": {
    "name": "ipython",
    "version": 3
   },
   "file_extension": ".py",
   "mimetype": "text/x-python",
   "name": "python",
   "nbconvert_exporter": "python",
   "pygments_lexer": "ipython3",
   "version": "3.7.6"
  }
 },
 "nbformat": 4,
 "nbformat_minor": 2
}
